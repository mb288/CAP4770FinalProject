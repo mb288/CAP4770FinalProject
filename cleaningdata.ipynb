{
 "cells": [
  {
   "cell_type": "code",
   "execution_count": 1,
   "metadata": {},
   "outputs": [
    {
     "name": "stdout",
     "output_type": "stream",
     "text": [
      "Original unique values: ['furnished' 'semi-furnished' 'unfurnished']\n",
      "Cleaned unique values: ['furnished' 'semi-furnished' 'unfurnished']\n"
     ]
    }
   ],
   "source": [
    "import pandas as pd\n",
    "\n",
    "\n",
    "file_path = 'Housing.csv'  \n",
    "housing_data = pd.read_csv(file_path)\n",
    "\n",
    "\n",
    "print(\"Original unique values:\", housing_data['furnishingstatus'].unique())\n",
    "\n",
    "housing_data['furnishingstatus'] = housing_data['furnishingstatus'].str.strip()  # Remove extra spaces\n",
    "housing_data['furnishingstatus'] = housing_data['furnishingstatus'].replace({\n",
    "    '|hed': 'unfurnished',\n",
    "    '|emi-furnished': 'semi-furnished',\n",
    "    '|rnished': 'furnished'\n",
    "})\n",
    "\n",
    "print(\"Cleaned unique values:\", housing_data['furnishingstatus'].unique())\n",
    "\n",
    "cleaned_file_path = 'Housing_Cleaned.csv'\n",
    "housing_data.to_csv(cleaned_file_path, index=False)\n"
   ]
  }
 ],
 "metadata": {
  "kernelspec": {
   "display_name": "pycaret_env",
   "language": "python",
   "name": "pycaret_env"
  },
  "language_info": {
   "codemirror_mode": {
    "name": "ipython",
    "version": 3
   },
   "file_extension": ".py",
   "mimetype": "text/x-python",
   "name": "python",
   "nbconvert_exporter": "python",
   "pygments_lexer": "ipython3",
   "version": "3.10.13"
  }
 },
 "nbformat": 4,
 "nbformat_minor": 2
}
